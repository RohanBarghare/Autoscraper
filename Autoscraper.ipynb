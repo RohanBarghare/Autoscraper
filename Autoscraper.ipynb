{
  "nbformat": 4,
  "nbformat_minor": 0,
  "metadata": {
    "colab": {
      "name": "Autoscraper.ipynb",
      "provenance": [],
      "collapsed_sections": []
    },
    "kernelspec": {
      "name": "python3",
      "display_name": "Python 3"
    },
    "language_info": {
      "name": "python"
    }
  },
  "cells": [
    {
      "cell_type": "code",
      "metadata": {
        "colab": {
          "base_uri": "https://localhost:8080/"
        },
        "id": "SnLwxjVcp9Qn",
        "outputId": "9a2aa88d-a48b-45df-c8bb-b972895f13aa"
      },
      "source": [
        "\n",
        "!pip install autoscraper"
      ],
      "execution_count": 1,
      "outputs": [
        {
          "output_type": "stream",
          "text": [
            "Requirement already satisfied: autoscraper in /usr/local/lib/python3.7/dist-packages (1.1.12)\n",
            "Requirement already satisfied: bs4 in /usr/local/lib/python3.7/dist-packages (from autoscraper) (0.0.1)\n",
            "Requirement already satisfied: requests in /usr/local/lib/python3.7/dist-packages (from autoscraper) (2.23.0)\n",
            "Requirement already satisfied: lxml in /usr/local/lib/python3.7/dist-packages (from autoscraper) (4.2.6)\n",
            "Requirement already satisfied: beautifulsoup4 in /usr/local/lib/python3.7/dist-packages (from bs4->autoscraper) (4.6.3)\n",
            "Requirement already satisfied: idna<3,>=2.5 in /usr/local/lib/python3.7/dist-packages (from requests->autoscraper) (2.10)\n",
            "Requirement already satisfied: certifi>=2017.4.17 in /usr/local/lib/python3.7/dist-packages (from requests->autoscraper) (2020.12.5)\n",
            "Requirement already satisfied: urllib3!=1.25.0,!=1.25.1,<1.26,>=1.21.1 in /usr/local/lib/python3.7/dist-packages (from requests->autoscraper) (1.24.3)\n",
            "Requirement already satisfied: chardet<4,>=3.0.2 in /usr/local/lib/python3.7/dist-packages (from requests->autoscraper) (3.0.4)\n"
          ],
          "name": "stdout"
        }
      ]
    },
    {
      "cell_type": "code",
      "metadata": {
        "id": "0I3fPzjapT31"
      },
      "source": [
        "from autoscraper import AutoScraper"
      ],
      "execution_count": 2,
      "outputs": []
    },
    {
      "cell_type": "code",
      "metadata": {
        "id": "4wOeHCroqB1w"
      },
      "source": [
        "flipcart_url=\"https://www.flipkart.com/search?q=laptops&otracker=search\""
      ],
      "execution_count": 3,
      "outputs": []
    },
    {
      "cell_type": "code",
      "metadata": {
        "id": "bIHnTBTZqp6L"
      },
      "source": [
        "wanted_list=[\"₹54,990\",\"acer Aspire 7 Core i5 9th Gen - (8 GB/512 GB SSD/Windows 10 Home/4 GB Graphics/NVIDIA GeForce GTX 1650...\"]"
      ],
      "execution_count": 10,
      "outputs": []
    },
    {
      "cell_type": "code",
      "metadata": {
        "id": "AHPuH224rljz"
      },
      "source": [
        "scraper=AutoScraper()"
      ],
      "execution_count": 11,
      "outputs": []
    },
    {
      "cell_type": "code",
      "metadata": {
        "id": "VmuWFnzdr2gL"
      },
      "source": [
        "result=scraper.build(flipcart_url,wanted_list)"
      ],
      "execution_count": 12,
      "outputs": []
    },
    {
      "cell_type": "code",
      "metadata": {
        "colab": {
          "base_uri": "https://localhost:8080/"
        },
        "id": "XfUXVyynsNh6",
        "outputId": "61155f0c-db49-4505-e7d3-67a922e88a54"
      },
      "source": [
        "print(result)"
      ],
      "execution_count": 13,
      "outputs": [
        {
          "output_type": "stream",
          "text": [
            "['₹54,990', '₹71,990', '₹25,990', '₹55,990', '₹23,990', '₹27,990', '₹34,990', '₹51,490', '₹59,990', '₹36,990', '₹33,990', '₹42,990', '₹1,29,990', '₹44,990', '₹49,990', '₹58,990', '₹50,990', '₹72,990', '₹45,990', '₹62,978', '₹66,990', 'acer Aspire 7 Core i5 9th Gen - (8 GB/512 GB SSD/Windows 10 Home/4 GB Graphics/NVIDIA GeForce GTX 1650...', 'Lenovo Ideapad Gaming 3 Ryzen 7 Octa Core 4800H - (8 GB/512 GB SSD/Windows 10 Home/4 GB Graphics/NVIDI...', 'Lenovo Ideapad 3 Athlon Dual Core 3050U - (4 GB/1 TB HDD/Windows 10 Home) 15ADA05 Laptop', 'acer Aspire 7 Ryzen 5 Hexa Core 5500U - (8 GB/512 GB SSD/Windows 10 Home/4 GB Graphics/NVIDIA GeForce ...', 'HP 15s Dual Core 3020e - (4 GB/1 TB HDD/Windows 10 Home) 15s-GY0003AU Thin and Light Laptop', 'Lenovo Ideapad S145 Ryzen 3 Dual Core 3200U - (4 GB/1 TB HDD/Windows 10 Home) S145-15API Laptop', 'HP 15s Ryzen 3 Dual Core 3250U - (8 GB/1 TB HDD/Windows 10 Home) 15s-GR0011AU Thin and Light Laptop', 'Lenovo Ideapad Slim 3 Celeron Dual Core - (4 GB/256 GB SSD/Windows 10 Home) 15IGL05 Laptop', 'HP Pavilion Gaming Ryzen 5 Quad Core 3550H - (8 GB/1 TB HDD/Windows 10 Home/4 GB Graphics/NVIDIA GeFor...', 'Lenovo Ideapad Gaming 3 Ryzen 5 Hexa Core 4600H - (8 GB/1 TB HDD/256 GB SSD/Windows 10 Home/4 GB Graph...', 'HP 14s Core i3 10th Gen - (8 GB/256 GB SSD/Windows 10 Home) 14s-cf3074TU Thin and Light Laptop', 'Lenovo Ideapad S145 Core i3 10th Gen - (4 GB/256 GB SSD/Windows 10 Home) S145-15IIL Thin and Light Lap...', 'Lenovo Ideapad S145 Ryzen 5 Quad Core 3500U - (8 GB/512 GB SSD/Windows 10 Home) S145-15API Laptop', 'ASUS ROG Zephyrus G15 (2020) Ryzen 9 Octa Core 4900HS - (16 GB/1 TB SSD/Windows 10 Home/6 GB Graphics/...', 'Lenovo Ideapad 3 Core i5 10th Gen - (8 GB/1 TB HDD/Windows 10 Home) 15IIL05 Laptop', 'HP Pavilion x360 Core i3 10th Gen - (8 GB/512 GB SSD/Windows 10 Home) 14-dh1178TU 2 in 1 Laptop', 'HP 14s Core i5 10th Gen - (8 GB/1 TB HDD/256 GB SSD/Windows 10 Home) 14S-ER0003TU Thin and Light Lapto...', 'MSI GF63 Thin Core i5 9th Gen - (8 GB/512 GB SSD/Windows 10 Home/4 GB Graphics/NVIDIA GeForce GTX 1650...', 'acer Aspire 7 Ryzen 5 Quad Core 3550H - (8 GB/512 GB SSD/Windows 10 Home/4 GB Graphics/NVIDIA GeForce ...', 'MSI Bravo 15 Ryzen 5 Hexa Core 4600H - (16 GB/512 GB SSD/Windows 10 Home/4 GB Graphics/AMD Radeon RX 5...', 'ASUS VivoBook 14 Ryzen 5 Hexa Core 4500U - (8 GB/512 GB SSD/Windows 10 Home) M413IA-EK581T Thin and Li...', 'HP Pavilion x360 Core i3 10th Gen - (8 GB/256 GB SSD/Windows 10 Home) 14-dh1181TU 2 in 1 Laptop', 'HP 15s Core i5 11th Gen - (8 GB/1 TB HDD/256 GB SSD/Windows 10 Home/2 GB Graphics) 15s-du3047TX Laptop', 'Lenovo Legion 5 Ryzen 5 Hexa Core 4600H - (8 GB/512 GB SSD/Windows 10 Home/4 GB Graphics/NVIDIA GeForc...']\n"
          ],
          "name": "stdout"
        }
      ]
    },
    {
      "cell_type": "code",
      "metadata": {
        "colab": {
          "base_uri": "https://localhost:8080/"
        },
        "id": "_ZKTjOuhsP9r",
        "outputId": "4fabf475-22df-4314-f516-6d55b31b7862"
      },
      "source": [
        "scraper.get_result_similar(flipcart_url,grouped=True)"
      ],
      "execution_count": 14,
      "outputs": [
        {
          "output_type": "execute_result",
          "data": {
            "text/plain": [
              "{'rule_7mib': ['acer Aspire 7 Core i5 9th Gen - (8 GB/512 GB SSD/Windows 10 Home/4 GB Graphics/NVIDIA GeForce GTX 1650...',\n",
              "  'Lenovo Ideapad Gaming 3 Ryzen 7 Octa Core 4800H - (8 GB/512 GB SSD/Windows 10 Home/4 GB Graphics/NVIDI...',\n",
              "  'Lenovo Ideapad 3 Athlon Dual Core 3050U - (4 GB/1 TB HDD/Windows 10 Home) 15ADA05 Laptop',\n",
              "  'acer Aspire 7 Ryzen 5 Hexa Core 5500U - (8 GB/512 GB SSD/Windows 10 Home/4 GB Graphics/NVIDIA GeForce ...',\n",
              "  'HP 15s Dual Core 3020e - (4 GB/1 TB HDD/Windows 10 Home) 15s-GY0003AU Thin and Light Laptop',\n",
              "  'Lenovo Ideapad S145 Ryzen 3 Dual Core 3200U - (4 GB/1 TB HDD/Windows 10 Home) S145-15API Laptop',\n",
              "  'HP 15s Ryzen 3 Dual Core 3250U - (8 GB/1 TB HDD/Windows 10 Home) 15s-GR0011AU Thin and Light Laptop',\n",
              "  'Lenovo Ideapad Slim 3 Celeron Dual Core - (4 GB/256 GB SSD/Windows 10 Home) 15IGL05 Laptop',\n",
              "  'HP Pavilion Gaming Ryzen 5 Quad Core 3550H - (8 GB/1 TB HDD/Windows 10 Home/4 GB Graphics/NVIDIA GeFor...',\n",
              "  'Lenovo Ideapad Gaming 3 Ryzen 5 Hexa Core 4600H - (8 GB/1 TB HDD/256 GB SSD/Windows 10 Home/4 GB Graph...',\n",
              "  'HP 14s Core i3 10th Gen - (8 GB/256 GB SSD/Windows 10 Home) 14s-cf3074TU Thin and Light Laptop',\n",
              "  'Lenovo Ideapad S145 Core i3 10th Gen - (4 GB/256 GB SSD/Windows 10 Home) S145-15IIL Thin and Light Lap...',\n",
              "  'Lenovo Ideapad S145 Ryzen 5 Quad Core 3500U - (8 GB/512 GB SSD/Windows 10 Home) S145-15API Laptop',\n",
              "  'ASUS ROG Zephyrus G15 (2020) Ryzen 9 Octa Core 4900HS - (16 GB/1 TB SSD/Windows 10 Home/6 GB Graphics/...',\n",
              "  'Lenovo Ideapad 3 Core i5 10th Gen - (8 GB/1 TB HDD/Windows 10 Home) 15IIL05 Laptop',\n",
              "  'HP Pavilion x360 Core i3 10th Gen - (8 GB/512 GB SSD/Windows 10 Home) 14-dh1178TU 2 in 1 Laptop',\n",
              "  'HP 14s Core i5 10th Gen - (8 GB/1 TB HDD/256 GB SSD/Windows 10 Home) 14S-ER0003TU Thin and Light Lapto...',\n",
              "  'MSI GF63 Thin Core i5 9th Gen - (8 GB/512 GB SSD/Windows 10 Home/4 GB Graphics/NVIDIA GeForce GTX 1650...',\n",
              "  'acer Aspire 7 Ryzen 5 Quad Core 3550H - (8 GB/512 GB SSD/Windows 10 Home/4 GB Graphics/NVIDIA GeForce ...',\n",
              "  'MSI Bravo 15 Ryzen 5 Hexa Core 4600H - (16 GB/512 GB SSD/Windows 10 Home/4 GB Graphics/AMD Radeon RX 5...',\n",
              "  'ASUS VivoBook 14 Ryzen 5 Hexa Core 4500U - (8 GB/512 GB SSD/Windows 10 Home) M413IA-EK581T Thin and Li...',\n",
              "  'HP Pavilion x360 Core i3 10th Gen - (8 GB/256 GB SSD/Windows 10 Home) 14-dh1181TU 2 in 1 Laptop',\n",
              "  'HP 15s Core i5 11th Gen - (8 GB/1 TB HDD/256 GB SSD/Windows 10 Home/2 GB Graphics) 15s-du3047TX Laptop',\n",
              "  'Lenovo Legion 5 Ryzen 5 Hexa Core 4600H - (8 GB/512 GB SSD/Windows 10 Home/4 GB Graphics/NVIDIA GeForc...'],\n",
              " 'rule_gaqy': ['₹54,990',\n",
              "  '₹71,990',\n",
              "  '₹25,990',\n",
              "  '₹55,990',\n",
              "  '₹23,990',\n",
              "  '₹27,990',\n",
              "  '₹34,990',\n",
              "  '₹23,990',\n",
              "  '₹51,490',\n",
              "  '₹59,990',\n",
              "  '₹36,990',\n",
              "  '₹33,990',\n",
              "  '₹42,990',\n",
              "  '₹1,29,990',\n",
              "  '₹44,990',\n",
              "  '₹49,990',\n",
              "  '₹58,990',\n",
              "  '₹54,990',\n",
              "  '₹50,990',\n",
              "  '₹72,990',\n",
              "  '₹49,990',\n",
              "  '₹45,990',\n",
              "  '₹62,978',\n",
              "  '₹66,990'],\n",
              " 'rule_ji14': ['acer Aspire 7 Core i5 9th Gen - (8 GB/512 GB SSD/Windows 10 Home/4 GB Graphics/NVIDIA GeForce GTX 1650...',\n",
              "  'Lenovo Ideapad Gaming 3 Ryzen 7 Octa Core 4800H - (8 GB/512 GB SSD/Windows 10 Home/4 GB Graphics/NVIDI...',\n",
              "  'Lenovo Ideapad 3 Athlon Dual Core 3050U - (4 GB/1 TB HDD/Windows 10 Home) 15ADA05 Laptop',\n",
              "  'acer Aspire 7 Ryzen 5 Hexa Core 5500U - (8 GB/512 GB SSD/Windows 10 Home/4 GB Graphics/NVIDIA GeForce ...',\n",
              "  'HP 15s Dual Core 3020e - (4 GB/1 TB HDD/Windows 10 Home) 15s-GY0003AU Thin and Light Laptop',\n",
              "  'Lenovo Ideapad S145 Ryzen 3 Dual Core 3200U - (4 GB/1 TB HDD/Windows 10 Home) S145-15API Laptop',\n",
              "  'HP 15s Ryzen 3 Dual Core 3250U - (8 GB/1 TB HDD/Windows 10 Home) 15s-GR0011AU Thin and Light Laptop',\n",
              "  'Lenovo Ideapad Slim 3 Celeron Dual Core - (4 GB/256 GB SSD/Windows 10 Home) 15IGL05 Laptop',\n",
              "  'HP Pavilion Gaming Ryzen 5 Quad Core 3550H - (8 GB/1 TB HDD/Windows 10 Home/4 GB Graphics/NVIDIA GeFor...',\n",
              "  'Lenovo Ideapad Gaming 3 Ryzen 5 Hexa Core 4600H - (8 GB/1 TB HDD/256 GB SSD/Windows 10 Home/4 GB Graph...',\n",
              "  'HP 14s Core i3 10th Gen - (8 GB/256 GB SSD/Windows 10 Home) 14s-cf3074TU Thin and Light Laptop',\n",
              "  'Lenovo Ideapad S145 Core i3 10th Gen - (4 GB/256 GB SSD/Windows 10 Home) S145-15IIL Thin and Light Lap...',\n",
              "  'Lenovo Ideapad S145 Ryzen 5 Quad Core 3500U - (8 GB/512 GB SSD/Windows 10 Home) S145-15API Laptop',\n",
              "  'ASUS ROG Zephyrus G15 (2020) Ryzen 9 Octa Core 4900HS - (16 GB/1 TB SSD/Windows 10 Home/6 GB Graphics/...',\n",
              "  'Lenovo Ideapad 3 Core i5 10th Gen - (8 GB/1 TB HDD/Windows 10 Home) 15IIL05 Laptop',\n",
              "  'HP Pavilion x360 Core i3 10th Gen - (8 GB/512 GB SSD/Windows 10 Home) 14-dh1178TU 2 in 1 Laptop',\n",
              "  'HP 14s Core i5 10th Gen - (8 GB/1 TB HDD/256 GB SSD/Windows 10 Home) 14S-ER0003TU Thin and Light Lapto...',\n",
              "  'MSI GF63 Thin Core i5 9th Gen - (8 GB/512 GB SSD/Windows 10 Home/4 GB Graphics/NVIDIA GeForce GTX 1650...',\n",
              "  'acer Aspire 7 Ryzen 5 Quad Core 3550H - (8 GB/512 GB SSD/Windows 10 Home/4 GB Graphics/NVIDIA GeForce ...',\n",
              "  'MSI Bravo 15 Ryzen 5 Hexa Core 4600H - (16 GB/512 GB SSD/Windows 10 Home/4 GB Graphics/AMD Radeon RX 5...',\n",
              "  'ASUS VivoBook 14 Ryzen 5 Hexa Core 4500U - (8 GB/512 GB SSD/Windows 10 Home) M413IA-EK581T Thin and Li...',\n",
              "  'HP Pavilion x360 Core i3 10th Gen - (8 GB/256 GB SSD/Windows 10 Home) 14-dh1181TU 2 in 1 Laptop',\n",
              "  'HP 15s Core i5 11th Gen - (8 GB/1 TB HDD/256 GB SSD/Windows 10 Home/2 GB Graphics) 15s-du3047TX Laptop',\n",
              "  'Lenovo Legion 5 Ryzen 5 Hexa Core 4600H - (8 GB/512 GB SSD/Windows 10 Home/4 GB Graphics/NVIDIA GeForc...'],\n",
              " 'rule_lhue': ['₹54,990',\n",
              "  '₹71,990',\n",
              "  '₹25,990',\n",
              "  '₹55,990',\n",
              "  '₹23,990',\n",
              "  '₹27,990',\n",
              "  '₹34,990',\n",
              "  '₹23,990',\n",
              "  '₹51,490',\n",
              "  '₹59,990',\n",
              "  '₹36,990',\n",
              "  '₹33,990',\n",
              "  '₹42,990',\n",
              "  '₹1,29,990',\n",
              "  '₹44,990',\n",
              "  '₹49,990',\n",
              "  '₹58,990',\n",
              "  '₹54,990',\n",
              "  '₹50,990',\n",
              "  '₹72,990',\n",
              "  '₹49,990',\n",
              "  '₹45,990',\n",
              "  '₹62,978',\n",
              "  '₹66,990']}"
            ]
          },
          "metadata": {
            "tags": []
          },
          "execution_count": 14
        }
      ]
    },
    {
      "cell_type": "code",
      "metadata": {
        "id": "n2OiuxT5slqG"
      },
      "source": [
        "scraper.set_rule_aliases({'rule_7mib':'Title','rule_gaqy':'Price'})"
      ],
      "execution_count": 15,
      "outputs": []
    },
    {
      "cell_type": "code",
      "metadata": {
        "id": "9AInZUNXti05"
      },
      "source": [
        "scraper.keep_rules(['rule_7mib','rule_gaqy'])"
      ],
      "execution_count": 16,
      "outputs": []
    },
    {
      "cell_type": "code",
      "metadata": {
        "id": "IUsNJ6lft5e7"
      },
      "source": [
        "scraper.save('flipkart_search')"
      ],
      "execution_count": 17,
      "outputs": []
    },
    {
      "cell_type": "markdown",
      "metadata": {
        "id": "ZMcuusskvVAA"
      },
      "source": [
        ""
      ]
    },
    {
      "cell_type": "code",
      "metadata": {
        "colab": {
          "base_uri": "https://localhost:8080/"
        },
        "id": "ez2oZ6vPuA-5",
        "outputId": "aaab019c-2aa2-470d-81e9-e9b97d9b8836"
      },
      "source": [
        "scraper.get_result_similar(\"https://www.flipkart.com/search?q=laptops&otracker=search&p%5B%5D=facets.brand%255B%255D%3DHP\",group_by_alias=True)"
      ],
      "execution_count": 19,
      "outputs": [
        {
          "output_type": "execute_result",
          "data": {
            "text/plain": [
              "{'Price': ['₹23,990',\n",
              "  '₹34,990',\n",
              "  '₹51,490',\n",
              "  '₹36,990',\n",
              "  '₹49,990',\n",
              "  '₹45,990',\n",
              "  '₹62,978',\n",
              "  '₹24,780',\n",
              "  '₹39,990',\n",
              "  '₹31,490',\n",
              "  '₹21,990',\n",
              "  '₹48,990',\n",
              "  '₹64,990',\n",
              "  '₹61,990',\n",
              "  '₹79,990',\n",
              "  '₹64,490',\n",
              "  '₹57,998',\n",
              "  '₹25,990',\n",
              "  '₹26,990',\n",
              "  '₹39,990',\n",
              "  '₹72,990',\n",
              "  '₹74,990',\n",
              "  '₹69,990',\n",
              "  '₹39,991'],\n",
              " 'Title': ['HP 15s Dual Core 3020e - (4 GB/1 TB HDD/Windows 10 Home) 15s-GY0003AU Thin and Light Laptop',\n",
              "  'HP 15s Ryzen 3 Dual Core 3250U - (8 GB/1 TB HDD/Windows 10 Home) 15s-GR0011AU Thin and Light Laptop',\n",
              "  'HP Pavilion Gaming Ryzen 5 Quad Core 3550H - (8 GB/1 TB HDD/Windows 10 Home/4 GB Graphics/NVIDIA GeFor...',\n",
              "  'HP 14s Core i3 10th Gen - (8 GB/256 GB SSD/Windows 10 Home) 14s-cf3074TU Thin and Light Laptop',\n",
              "  'HP Pavilion x360 Core i3 10th Gen - (8 GB/512 GB SSD/Windows 10 Home) 14-dh1178TU 2 in 1 Laptop',\n",
              "  'HP Pavilion x360 Core i3 10th Gen - (8 GB/256 GB SSD/Windows 10 Home) 14-dh1181TU 2 in 1 Laptop',\n",
              "  'HP 15s Core i5 11th Gen - (8 GB/1 TB HDD/256 GB SSD/Windows 10 Home/2 GB Graphics) 15s-du3047TX Laptop',\n",
              "  'HP 15s Celeron Dual Core - (4 GB/1 TB HDD/Windows 10 Home) 15s-du1044tu Thin and Light Laptop',\n",
              "  'HP Ryzen 5 Quad Core - (8 GB/1 TB HDD/Windows 10 Home) 245 G7 Thin and Light Laptop',\n",
              "  'HP 15 Ryzen 3 Dual Core 3200U - (4 GB/1 TB HDD/Windows 10 Home) 15-db 1059AU Laptop',\n",
              "  'HP Chromebook MT8183 - (4 GB/64 GB EMMC Storage/Chrome OS) 11A-NA0002MU Chromebook',\n",
              "  'HP Pavilion x360 Core i3 11th Gen - (8 GB/256 GB SSD/Windows 10 Home) 14-dw1036TU 2 in 1 Laptop',\n",
              "  'HP Pavilion Gaming Ryzen 5 Hexa Core 4600H - (8 GB/1 TB HDD/256 GB SSD/Windows 10 Home/4 GB Graphics/N...',\n",
              "  'HP Pavilion x360 Core i5 10th Gen - (8 GB/512 GB SSD/Windows 10 Home) 14-dh1179TU 2 in 1 Laptop',\n",
              "  'HP Pavilion Core i7 10th Gen - (16 GB + 32 GB Optane/512 GB SSD/Windows 10 Home/4 GB Graphics/NVIDIA G...',\n",
              "  'HP Pavilion x360 Core i5 11th Gen - (8 GB/512 GB SSD/Windows 10 Home) 14-dw1038TU 2 in 1 Laptop',\n",
              "  'HP 14s Core i5 10th Gen - (8 GB/1 TB HDD/256 GB SSD/Windows 10 Home) 14s-CR2000TU Thin and Light Lapto...',\n",
              "  'HP 15s Athlon Dual Core - (4 GB/1 TB HDD/Windows 10 Home) 15s-GY0001AU Thin and Light Laptop',\n",
              "  'HP 15s Pentium Gold - (4 GB/1 TB HDD/Windows 10 Home) 15s-du1052TU Thin and Light Laptop',\n",
              "  'HP Chromebook x360 Core i3 10th Gen - (4 GB/64 GB EMMC Storage/Chrome OS) 14c-ca0004TU 2 in 1 Laptop',\n",
              "  'HP 14s Core i7 10th Gen - (8 GB/512 GB SSD/Windows 10 Home) 14s-DR1010TU Thin and Light Laptop',\n",
              "  'HP Pavilion x360 Core i7 10th Gen - (8 GB/512 GB SSD/Windows 10 Home) 14-dh1180TU 2 in 1 Laptop',\n",
              "  'HP Omen Ryzen 5 Hexa Core 4600H - (8 GB/512 GB SSD/Windows 10 Home/4 GB Graphics/NVIDIA GeForce GTX 16...',\n",
              "  'HP 14s Core i3 10th Gen - (4 GB/1 TB HDD/Windows 10 Home) 14S-ER0002TU Thin and Light Laptop  with inb...']}"
            ]
          },
          "metadata": {
            "tags": []
          },
          "execution_count": 19
        }
      ]
    },
    {
      "cell_type": "code",
      "metadata": {
        "id": "v2Z-zEkdxalT"
      },
      "source": [
        "hp_laptop=scraper.get_result_similar(\"https://www.flipkart.com/search?q=laptops&otracker=search&p%5B%5D=facets.brand%255B%255D%3DHP\",group_by_alias=True)"
      ],
      "execution_count": 20,
      "outputs": []
    },
    {
      "cell_type": "code",
      "metadata": {
        "colab": {
          "base_uri": "https://localhost:8080/"
        },
        "id": "qnvo5sQvyWjj",
        "outputId": "4f26c676-b988-4cb2-91e1-e2b3ed61c492"
      },
      "source": [
        "hp_laptop['Price']"
      ],
      "execution_count": 23,
      "outputs": [
        {
          "output_type": "execute_result",
          "data": {
            "text/plain": [
              "['₹1,21,990',\n",
              " '₹79,990',\n",
              " '₹23,990',\n",
              " '₹36,990',\n",
              " '₹49,990',\n",
              " '₹58,990',\n",
              " '₹45,990',\n",
              " '₹62,978',\n",
              " '₹24,780',\n",
              " '₹51,490',\n",
              " '₹31,490',\n",
              " '₹39,990',\n",
              " '₹21,990',\n",
              " '₹32,990',\n",
              " '₹48,990',\n",
              " '₹64,990',\n",
              " '₹26,990',\n",
              " '₹64,490',\n",
              " '₹57,998',\n",
              " '₹61,990',\n",
              " '₹72,990',\n",
              " '₹41,990',\n",
              " '₹74,990',\n",
              " '₹69,990']"
            ]
          },
          "metadata": {
            "tags": []
          },
          "execution_count": 23
        }
      ]
    },
    {
      "cell_type": "code",
      "metadata": {
        "id": "_m5UUf1uyaa_"
      },
      "source": [
        "scraper.save('flipkart_search')"
      ],
      "execution_count": 25,
      "outputs": []
    },
    {
      "cell_type": "code",
      "metadata": {
        "id": "X0lTXvdUzqeW"
      },
      "source": [
        "scraper.load('flipkart_search')"
      ],
      "execution_count": 26,
      "outputs": []
    },
    {
      "cell_type": "code",
      "metadata": {
        "id": "6ClEOQXn2dtw"
      },
      "source": [
        ""
      ],
      "execution_count": null,
      "outputs": []
    }
  ]
}